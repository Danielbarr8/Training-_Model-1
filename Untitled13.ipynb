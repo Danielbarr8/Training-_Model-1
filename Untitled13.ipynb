{
  "cells": [
    {
      "cell_type": "markdown",
      "metadata": {
        "id": "view-in-github",
        "colab_type": "text"
      },
      "source": [
        "<a href=\"https://colab.research.google.com/github/Danielbarr8/Training-_Model-1/blob/main/Untitled13.ipynb\" target=\"_parent\"><img src=\"https://colab.research.google.com/assets/colab-badge.svg\" alt=\"Open In Colab\"/></a>"
      ]
    },
    {
      "cell_type": "code",
      "execution_count": null,
      "metadata": {
        "colab": {
          "base_uri": "https://localhost:8080/"
        },
        "id": "ycgEeUaG5aB2",
        "outputId": "11e0dabb-7411-4dfc-c390-11ac8feec809"
      },
      "outputs": [
        {
          "name": "stdout",
          "output_type": "stream",
          "text": [
            "Looking in indexes: https://pypi.org/simple, https://us-python.pkg.dev/colab-wheels/public/simple/\n",
            "Requirement already satisfied: keras in /usr/local/lib/python3.9/dist-packages (2.11.0)\n"
          ]
        }
      ],
      "source": [
        "pip install keras "
      ]
    },
    {
      "cell_type": "code",
      "execution_count": null,
      "metadata": {
        "colab": {
          "base_uri": "https://localhost:8080/"
        },
        "id": "UabdgWpa7qeJ",
        "outputId": "2def59df-17aa-4539-880a-ee066aac9ddb"
      },
      "outputs": [
        {
          "name": "stdout",
          "output_type": "stream",
          "text": [
            "Downloading data from https://storage.googleapis.com/tensorflow/tf-keras-datasets/mnist.npz\n",
            "11490434/11490434 [==============================] - 0s 0us/step\n",
            "Epoch 1/50\n",
            "235/235 [==============================] - 7s 19ms/step - loss: 0.2483 - val_loss: 0.1678\n",
            "Epoch 2/50\n",
            "235/235 [==============================] - 5s 23ms/step - loss: 0.1514 - val_loss: 0.1381\n",
            "Epoch 3/50\n",
            "235/235 [==============================] - 4s 19ms/step - loss: 0.1320 - val_loss: 0.1251\n",
            "Epoch 4/50\n",
            "235/235 [==============================] - 5s 20ms/step - loss: 0.1237 - val_loss: 0.1189\n",
            "Epoch 5/50\n",
            "235/235 [==============================] - 5s 21ms/step - loss: 0.1175 - val_loss: 0.1127\n",
            "Epoch 6/50\n",
            "235/235 [==============================] - 4s 18ms/step - loss: 0.1124 - val_loss: 0.1090\n",
            "Epoch 7/50\n",
            "235/235 [==============================] - 5s 23ms/step - loss: 0.1088 - val_loss: 0.1059\n",
            "Epoch 8/50\n",
            "235/235 [==============================] - 4s 18ms/step - loss: 0.1062 - val_loss: 0.1037\n",
            "Epoch 9/50\n",
            "235/235 [==============================] - 4s 18ms/step - loss: 0.1043 - val_loss: 0.1024\n",
            "Epoch 10/50\n",
            "235/235 [==============================] - 5s 23ms/step - loss: 0.1026 - val_loss: 0.1005\n",
            "Epoch 11/50\n",
            "235/235 [==============================] - 4s 18ms/step - loss: 0.1011 - val_loss: 0.0994\n",
            "Epoch 12/50\n",
            "235/235 [==============================] - 4s 18ms/step - loss: 0.0996 - val_loss: 0.0979\n",
            "Epoch 13/50\n",
            "235/235 [==============================] - 5s 23ms/step - loss: 0.0982 - val_loss: 0.0964\n",
            "Epoch 14/50\n",
            "235/235 [==============================] - 4s 18ms/step - loss: 0.0971 - val_loss: 0.0957\n",
            "Epoch 15/50\n",
            "235/235 [==============================] - 4s 18ms/step - loss: 0.0961 - val_loss: 0.0945\n",
            "Epoch 16/50\n",
            "235/235 [==============================] - 6s 24ms/step - loss: 0.0951 - val_loss: 0.0939\n",
            "Epoch 17/50\n",
            "235/235 [==============================] - 4s 18ms/step - loss: 0.0944 - val_loss: 0.0929\n",
            "Epoch 18/50\n",
            "235/235 [==============================] - 5s 19ms/step - loss: 0.0936 - val_loss: 0.0925\n",
            "Epoch 19/50\n",
            "235/235 [==============================] - 5s 21ms/step - loss: 0.0929 - val_loss: 0.0917\n",
            "Epoch 20/50\n",
            "235/235 [==============================] - 4s 18ms/step - loss: 0.0923 - val_loss: 0.0911\n",
            "Epoch 21/50\n",
            "235/235 [==============================] - 5s 22ms/step - loss: 0.0918 - val_loss: 0.0907\n",
            "Epoch 22/50\n",
            "235/235 [==============================] - 4s 19ms/step - loss: 0.0913 - val_loss: 0.0906\n",
            "Epoch 23/50\n",
            "235/235 [==============================] - 4s 18ms/step - loss: 0.0909 - val_loss: 0.0897\n",
            "Epoch 24/50\n",
            "235/235 [==============================] - 5s 23ms/step - loss: 0.0905 - val_loss: 0.0893\n",
            "Epoch 25/50\n",
            "235/235 [==============================] - 4s 18ms/step - loss: 0.0901 - val_loss: 0.0893\n",
            "Epoch 26/50\n",
            "235/235 [==============================] - 4s 18ms/step - loss: 0.0897 - val_loss: 0.0887\n",
            "Epoch 27/50\n",
            "235/235 [==============================] - 5s 23ms/step - loss: 0.0893 - val_loss: 0.0885\n",
            "Epoch 28/50\n",
            "235/235 [==============================] - 4s 18ms/step - loss: 0.0889 - val_loss: 0.0883\n",
            "Epoch 29/50\n",
            "235/235 [==============================] - 4s 18ms/step - loss: 0.0886 - val_loss: 0.0878\n",
            "Epoch 30/50\n",
            "235/235 [==============================] - 5s 22ms/step - loss: 0.0883 - val_loss: 0.0879\n",
            "Epoch 31/50\n",
            "235/235 [==============================] - 4s 17ms/step - loss: 0.0881 - val_loss: 0.0872\n",
            "Epoch 32/50\n",
            "235/235 [==============================] - 4s 17ms/step - loss: 0.0879 - val_loss: 0.0869\n",
            "Epoch 33/50\n",
            "235/235 [==============================] - 5s 23ms/step - loss: 0.0876 - val_loss: 0.0873\n",
            "Epoch 34/50\n",
            "235/235 [==============================] - 4s 17ms/step - loss: 0.0874 - val_loss: 0.0866\n",
            "Epoch 35/50\n",
            "235/235 [==============================] - 4s 18ms/step - loss: 0.0872 - val_loss: 0.0864\n",
            "Epoch 36/50\n",
            "235/235 [==============================] - 5s 22ms/step - loss: 0.0870 - val_loss: 0.0861\n",
            "Epoch 37/50\n",
            "235/235 [==============================] - 4s 18ms/step - loss: 0.0868 - val_loss: 0.0862\n",
            "Epoch 38/50\n",
            "235/235 [==============================] - 5s 19ms/step - loss: 0.0866 - val_loss: 0.0860\n",
            "Epoch 39/50\n",
            "235/235 [==============================] - 5s 20ms/step - loss: 0.0865 - val_loss: 0.0859\n",
            "Epoch 40/50\n",
            "235/235 [==============================] - 4s 18ms/step - loss: 0.0863 - val_loss: 0.0858\n",
            "Epoch 41/50\n",
            "235/235 [==============================] - 5s 21ms/step - loss: 0.0861 - val_loss: 0.0854\n",
            "Epoch 42/50\n",
            "235/235 [==============================] - 4s 19ms/step - loss: 0.0860 - val_loss: 0.0853\n",
            "Epoch 43/50\n",
            "235/235 [==============================] - 4s 18ms/step - loss: 0.0858 - val_loss: 0.0851\n",
            "Epoch 44/50\n",
            "235/235 [==============================] - 5s 22ms/step - loss: 0.0857 - val_loss: 0.0850\n",
            "Epoch 45/50\n",
            "235/235 [==============================] - 4s 18ms/step - loss: 0.0856 - val_loss: 0.0851\n",
            "Epoch 46/50\n",
            "235/235 [==============================] - 4s 17ms/step - loss: 0.0854 - val_loss: 0.0849\n",
            "Epoch 47/50\n",
            "235/235 [==============================] - 5s 22ms/step - loss: 0.0853 - val_loss: 0.0847\n",
            "Epoch 48/50\n",
            "235/235 [==============================] - 4s 17ms/step - loss: 0.0852 - val_loss: 0.0846\n",
            "Epoch 49/50\n",
            "235/235 [==============================] - 4s 17ms/step - loss: 0.0850 - val_loss: 0.0847\n",
            "Epoch 50/50\n",
            "235/235 [==============================] - 5s 23ms/step - loss: 0.0850 - val_loss: 0.0842\n"
          ]
        },
        {
          "data": {
            "text/plain": [
              "<keras.callbacks.History at 0x7f25010e1790>"
            ]
          },
          "execution_count": 5,
          "metadata": {},
          "output_type": "execute_result"
        }
      ],
      "source": [
        "from keras.layers import Input, Dense\n",
        "from keras.models import Model\n",
        "\n",
        "# Define the input layer\n",
        "input_layer = Input(shape=(784,))\n",
        "\n",
        "# Define the encoder\n",
        "encoder = Dense(128, activation='relu')(input_layer)\n",
        "encoder = Dense(64, activation='relu')(encoder)\n",
        "encoder = Dense(32, activation='relu')(encoder)\n",
        "\n",
        "# Define the decoder\n",
        "decoder = Dense(64, activation='relu')(encoder)\n",
        "decoder = Dense(128, activation='relu')(decoder)\n",
        "decoder = Dense(784, activation='sigmoid')(decoder)\n",
        "\n",
        "# Define the autoencoder\n",
        "autoencoder = Model(inputs=input_layer, outputs=decoder)\n",
        "\n",
        "# Compile the autoencoder\n",
        "autoencoder.compile(optimizer='adam', loss='binary_crossentropy')\n",
        "\n",
        "# Load the MNIST dataset\n",
        "from keras.datasets import mnist\n",
        "(x_train, _), (x_test, _) = mnist.load_data()\n",
        "\n",
        "# Normalize the pixel values between 0 and 1\n",
        "x_train = x_train.astype('float32') / 255.\n",
        "x_test = x_test.astype('float32') / 255.\n",
        "\n",
        "# Flatten the images\n",
        "x_train = x_train.reshape((len(x_train), 784))\n",
        "x_test = x_test.reshape((len(x_test), 784))\n",
        "\n",
        "# Train the autoencoder\n",
        "autoencoder.fit(x_train, x_train, epochs=50, batch_size=256, shuffle=True, validation_data=(x_test, x_test))"
      ]
    },
    {
      "cell_type": "code",
      "execution_count": null,
      "metadata": {
        "id": "iZ7JlCxkhXA1"
      },
      "outputs": [],
      "source": [
        "import random"
      ]
    },
    {
      "cell_type": "code",
      "execution_count": null,
      "metadata": {
        "colab": {
          "background_save": true,
          "base_uri": "https://localhost:8080/"
        },
        "id": "bU4zofNVhXGo",
        "outputId": "2d067405-b231-422f-eb8b-225f8c582457"
      },
      "outputs": [
        {
          "name": "stdout",
          "output_type": "stream",
          "text": [
            "Welcome to Chatbot!\n"
          ]
        }
      ],
      "source": [
        "import random\n",
        "\n",
        "# define a dictionary of responses\n",
        "responses = {\n",
        "    \"hello\": [\"Hi there!\", \"Hello!\", \"Greetings!\"],\n",
        "    \"how are you\": [\"I'm doing well, thanks for asking.\", \"I'm good, how about you?\"],\n",
        "    \"what's your name\": [\"My name is Chatbot.\", \"You can call me Chatbot.\"],\n",
        "    \"bye\": [\"Goodbye!\", \"See you later!\", \"Take care!\"]\n",
        "}\n",
        "\n",
        "# define a function to get a response from the dictionary\n",
        "def get_response(input_text):\n",
        "    # loop through the responses dictionary to find a matching key\n",
        "    for key in responses:\n",
        "        if input_text.lower() in key:\n",
        "            # return a random response from the list of responses\n",
        "            return random.choice(responses[key])\n",
        "    # if no matching key is found, return a default response\n",
        "    return \"I'm sorry, I don't understand.\"\n",
        "\n",
        "# define a main function to run the chatbot\n",
        "def main():\n",
        "    print(\"Welcome to Chatbot!\")\n",
        "    while True:\n",
        "        input_text = input(\"You: \")\n",
        "        response = get_response(input_text)\n",
        "        print(\"Chatbot: \" + response)\n",
        "\n",
        "# run the main function\n",
        "if __name__ == '__main__':\n",
        "    main()"
      ]
    },
    {
      "cell_type": "code",
      "execution_count": null,
      "metadata": {
        "colab": {
          "base_uri": "https://localhost:8080/"
        },
        "id": "SY-FdKcoPIl_",
        "outputId": "3757620f-0d8b-4081-c39a-44e4f4a327b8"
      },
      "outputs": [
        {
          "name": "stdout",
          "output_type": "stream",
          "text": [
            "Looking in indexes: https://pypi.org/simple, https://us-python.pkg.dev/colab-wheels/public/simple/\n",
            "Requirement already satisfied: numpy in /usr/local/lib/python3.9/dist-packages (1.22.4)\n",
            "Requirement already satisfied: pandas in /usr/local/lib/python3.9/dist-packages (1.4.4)\n",
            "Requirement already satisfied: matplotlib in /usr/local/lib/python3.9/dist-packages (3.7.1)\n",
            "Requirement already satisfied: statsmodels in /usr/local/lib/python3.9/dist-packages (0.13.5)\n",
            "Requirement already satisfied: nltk in /usr/local/lib/python3.9/dist-packages (3.8.1)\n",
            "Requirement already satisfied: python-dateutil>=2.8.1 in /usr/local/lib/python3.9/dist-packages (from pandas) (2.8.2)\n",
            "Requirement already satisfied: pytz>=2020.1 in /usr/local/lib/python3.9/dist-packages (from pandas) (2022.7.1)\n",
            "Requirement already satisfied: pyparsing>=2.3.1 in /usr/local/lib/python3.9/dist-packages (from matplotlib) (3.0.9)\n",
            "Requirement already satisfied: contourpy>=1.0.1 in /usr/local/lib/python3.9/dist-packages (from matplotlib) (1.0.7)\n",
            "Requirement already satisfied: kiwisolver>=1.0.1 in /usr/local/lib/python3.9/dist-packages (from matplotlib) (1.4.4)\n",
            "Requirement already satisfied: fonttools>=4.22.0 in /usr/local/lib/python3.9/dist-packages (from matplotlib) (4.39.2)\n",
            "Requirement already satisfied: packaging>=20.0 in /usr/local/lib/python3.9/dist-packages (from matplotlib) (23.0)\n",
            "Requirement already satisfied: importlib-resources>=3.2.0 in /usr/local/lib/python3.9/dist-packages (from matplotlib) (5.12.0)\n",
            "Requirement already satisfied: pillow>=6.2.0 in /usr/local/lib/python3.9/dist-packages (from matplotlib) (8.4.0)\n",
            "Requirement already satisfied: cycler>=0.10 in /usr/local/lib/python3.9/dist-packages (from matplotlib) (0.11.0)\n",
            "Requirement already satisfied: patsy>=0.5.2 in /usr/local/lib/python3.9/dist-packages (from statsmodels) (0.5.3)\n",
            "Requirement already satisfied: scipy>=1.3 in /usr/local/lib/python3.9/dist-packages (from statsmodels) (1.10.1)\n",
            "Requirement already satisfied: joblib in /usr/local/lib/python3.9/dist-packages (from nltk) (1.1.1)\n",
            "Requirement already satisfied: click in /usr/local/lib/python3.9/dist-packages (from nltk) (8.1.3)\n",
            "Requirement already satisfied: regex>=2021.8.3 in /usr/local/lib/python3.9/dist-packages (from nltk) (2022.10.31)\n",
            "Requirement already satisfied: tqdm in /usr/local/lib/python3.9/dist-packages (from nltk) (4.65.0)\n",
            "Requirement already satisfied: zipp>=3.1.0 in /usr/local/lib/python3.9/dist-packages (from importlib-resources>=3.2.0->matplotlib) (3.15.0)\n",
            "Requirement already satisfied: six in /usr/local/lib/python3.9/dist-packages (from patsy>=0.5.2->statsmodels) (1.16.0)\n"
          ]
        }
      ],
      "source": [
        "!pip install numpy pandas matplotlib statsmodels nltk"
      ]
    },
    {
      "cell_type": "code",
      "execution_count": null,
      "metadata": {
        "colab": {
          "base_uri": "https://localhost:8080/"
        },
        "id": "p9BnDMpbPaCR",
        "outputId": "a94da7ef-ea18-4a31-c488-e8b8dcfb6ab2"
      },
      "outputs": [
        {
          "metadata": {
            "tags": null
          },
          "name": "stdout",
          "output_type": "stream",
          "text": [
            "Hi, I'm the Chatbot. Type 'quit' to exit.\n",
            "None\n"
          ]
        }
      ],
      "source": [
        "import numpy as np\n",
        "import pandas as pd\n",
        "import matplotlib.pyplot as plt\n",
        "from statsmodels.tsa.statespace.sarimax import SARIMAX\n",
        "from statsmodels.tsa.arima.model import ARIMA\n",
        "from statsmodels.tsa.seasonal import seasonal_decompose\n",
        "from statsmodels.tsa.holtwinters import ExponentialSmoothing\n",
        "from nltk.chat.util import Chat, reflections\n",
        "\n",
        "# Generate Synthetic Data\n",
        "def generate_synthetic_data(start_date, periods):\n",
        "    data = pd.Series(np.random.randn(periods), index=pd.date_range(start=start_date, periods=periods))\n",
        "    return data\n",
        "\n",
        "data = generate_synthetic_data('1/1/2022', 1000)\n",
        "\n",
        "def preprocess_data(data, window_size=5, alpha=0.2):\n",
        "    moving_avg = data.rolling(window=window_size).mean()\n",
        "    exp_smoothing = ExponentialSmoothing(data, alpha=alpha).fit(smoothing_level=alpha, optimized=False).fittedvalues\n",
        "    return moving_avg, exp_smoothing\n",
        "\n",
        "def chatbot():\n",
        "    def process_sarimax_input(user_input):\n",
        "        try:\n",
        "            seasonal_period, train_split = map(int, user_input.split(','))\n",
        "            moving_avg, exp_smoothing = preprocess_data(data)\n",
        "            time_series_forecasting_SARIMAX(exp_smoothing, seasonal_period, train_split)\n",
        "        except ValueError:\n",
        "            print(\"Invalid input format. Please enter the seasonal period and train split as integers separated by a comma.\")\n",
        "\n",
        "    def process_arima_input(user_input):\n",
        "        try:\n",
        "            months = int(user_input)\n",
        "            if months <= 12:\n",
        "                moving_avg, exp_smoothing = preprocess_data(data)\n",
        "                time_series_forecasting_ARIMA(exp_smoothing, months)\n",
        "            else:\n",
        "                print(\"Please enter a number of months up to 12.\")\n",
        "        except ValueError:\n",
        "            print(\"Invalid input format. Please enter the number of months as an integer.\")\n",
        "\n",
        "    pairs = [\n",
        "        [\n",
        "            r\"hi|hello|hey\",\n",
        "            [\"Hello!\", \"Hi there!\", \"Hey! How can I help you?\"]\n",
        "        ],\n",
        "        [\n",
        "            r\"how are you?\",\n",
        "            [\"I'm doing well, thank you!\", \"I'm great! How about you?\"]\n",
        "        ],\n",
        "        [\n",
        "            r\"(.*) your name?\",\n",
        "            [\"My name is Chatbot, nice to meet you!\"]\n",
        "        ],\n",
        "        [\n",
        "            r\"forecast SARIMAX|predict SARIMAX|predict with SARIMAX\",\n",
        "            [process_sarimax_input]\n",
        "        ],\n",
        "        [\n",
        "            r\"forecast ARIMA|predict ARIMA|predict with ARIMA\",\n",
        "            [process_arima_input]\n",
        "        ],\n",
        "        [\n",
        "            r\"quit\",\n",
        "            [\"Goodbye! Have a nice day.\"]\n",
        "        ],\n",
        "    ]\n",
        "\n",
        "    print(\"Hi, I'm the Chatbot. Type 'quit' to exit.\")\n",
        "    chat = Chat(pairs, reflections)\n",
        "    chat.converse()\n",
        "\n",
        "chatbot()"
      ]
    }
  ],
  "metadata": {
    "colab": {
      "provenance": [],
      "authorship_tag": "ABX9TyNLQl3bqx59V97hkkW3hrR3",
      "include_colab_link": true
    },
    "kernelspec": {
      "display_name": "Python 3",
      "name": "python3"
    },
    "language_info": {
      "name": "python"
    }
  },
  "nbformat": 4,
  "nbformat_minor": 0
}